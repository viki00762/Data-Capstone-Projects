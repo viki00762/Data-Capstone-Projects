{
 "cells": [
  {
   "cell_type": "code",
   "execution_count": 1,
   "metadata": {
    "collapsed": true
   },
   "outputs": [],
   "source": [
    "import numpy as np\n",
    "import pandas as pd\n",
    "import seaborn as sns"
   ]
  },
  {
   "cell_type": "code",
   "execution_count": 2,
   "metadata": {
    "collapsed": true
   },
   "outputs": [],
   "source": [
    "df0 = pd.read_csv('TRB Flight Safety.csv')"
   ]
  },
  {
   "cell_type": "code",
   "execution_count": 3,
   "metadata": {},
   "outputs": [
    {
     "data": {
      "text/html": [
       "<div>\n",
       "<style>\n",
       "    .dataframe thead tr:only-child th {\n",
       "        text-align: right;\n",
       "    }\n",
       "\n",
       "    .dataframe thead th {\n",
       "        text-align: left;\n",
       "    }\n",
       "\n",
       "    .dataframe tbody tr th {\n",
       "        vertical-align: top;\n",
       "    }\n",
       "</style>\n",
       "<table border=\"1\" class=\"dataframe\">\n",
       "  <thead>\n",
       "    <tr style=\"text-align: right;\">\n",
       "      <th></th>\n",
       "      <th>Event_ID</th>\n",
       "      <th>Source</th>\n",
       "      <th>Date</th>\n",
       "      <th>Time</th>\n",
       "      <th>Flight_Number</th>\n",
       "      <th>Orig</th>\n",
       "      <th>Dest</th>\n",
       "      <th>Fleet</th>\n",
       "      <th>Ship_Number</th>\n",
       "      <th>EDR_EQUIP</th>\n",
       "      <th>...</th>\n",
       "      <th>Altitude</th>\n",
       "      <th>Flight_Phase</th>\n",
       "      <th>P1</th>\n",
       "      <th>P2</th>\n",
       "      <th>P3</th>\n",
       "      <th>P3A</th>\n",
       "      <th>P4</th>\n",
       "      <th>P5</th>\n",
       "      <th>P6</th>\n",
       "      <th>Comments</th>\n",
       "    </tr>\n",
       "  </thead>\n",
       "  <tbody>\n",
       "    <tr>\n",
       "      <th>0</th>\n",
       "      <td>TRB16001</td>\n",
       "      <td>Unknown</td>\n",
       "      <td>1-Jul-16</td>\n",
       "      <td>NaN</td>\n",
       "      <td>201</td>\n",
       "      <td>JNB</td>\n",
       "      <td>ATL</td>\n",
       "      <td>777</td>\n",
       "      <td>7103.0</td>\n",
       "      <td>NaN</td>\n",
       "      <td>...</td>\n",
       "      <td>34311.13793</td>\n",
       "      <td>Cruise</td>\n",
       "      <td>NaN</td>\n",
       "      <td>NaN</td>\n",
       "      <td>NaN</td>\n",
       "      <td>NaN</td>\n",
       "      <td>NaN</td>\n",
       "      <td>NaN</td>\n",
       "      <td>NaN</td>\n",
       "      <td>STARS report with turb, no injury report, no p...</td>\n",
       "    </tr>\n",
       "    <tr>\n",
       "      <th>1</th>\n",
       "      <td>TRB16002</td>\n",
       "      <td>NaN</td>\n",
       "      <td>2-Jul-16</td>\n",
       "      <td>03JUL16 0100Z</td>\n",
       "      <td>2004</td>\n",
       "      <td>LAX</td>\n",
       "      <td>SLC</td>\n",
       "      <td>320</td>\n",
       "      <td>3215.0</td>\n",
       "      <td>NaN</td>\n",
       "      <td>...</td>\n",
       "      <td>NaN</td>\n",
       "      <td>NaN</td>\n",
       "      <td>NaN</td>\n",
       "      <td>NaN</td>\n",
       "      <td>NaN</td>\n",
       "      <td>NaN</td>\n",
       "      <td>NaN</td>\n",
       "      <td>NaN</td>\n",
       "      <td>NaN</td>\n",
       "      <td>FOQA did not detect turbulence on this flight....</td>\n",
       "    </tr>\n",
       "    <tr>\n",
       "      <th>2</th>\n",
       "      <td>TRB16003</td>\n",
       "      <td>NaN</td>\n",
       "      <td>5-Jul-16</td>\n",
       "      <td>NaN</td>\n",
       "      <td>853</td>\n",
       "      <td>DTW</td>\n",
       "      <td>RSW</td>\n",
       "      <td>M90</td>\n",
       "      <td>9231.0</td>\n",
       "      <td>NaN</td>\n",
       "      <td>...</td>\n",
       "      <td>NaN</td>\n",
       "      <td>NaN</td>\n",
       "      <td>NaN</td>\n",
       "      <td>NaN</td>\n",
       "      <td>NaN</td>\n",
       "      <td>NaN</td>\n",
       "      <td>NaN</td>\n",
       "      <td>NaN</td>\n",
       "      <td>NaN</td>\n",
       "      <td>Conflicting reports on question F4. FOQA did n...</td>\n",
       "    </tr>\n",
       "    <tr>\n",
       "      <th>3</th>\n",
       "      <td>TRB16004</td>\n",
       "      <td>NaN</td>\n",
       "      <td>5-Jul-16</td>\n",
       "      <td>05JUL160445Z</td>\n",
       "      <td>83</td>\n",
       "      <td>CDG</td>\n",
       "      <td>ATL</td>\n",
       "      <td>777</td>\n",
       "      <td>7101.0</td>\n",
       "      <td>NaN</td>\n",
       "      <td>...</td>\n",
       "      <td>3038.549444</td>\n",
       "      <td>Approach</td>\n",
       "      <td>NaN</td>\n",
       "      <td>NaN</td>\n",
       "      <td>NaN</td>\n",
       "      <td>NaN</td>\n",
       "      <td>NaN</td>\n",
       "      <td>NaN</td>\n",
       "      <td>NaN</td>\n",
       "      <td>FOQA did not detect turbulence during this fli...</td>\n",
       "    </tr>\n",
       "    <tr>\n",
       "      <th>4</th>\n",
       "      <td>TRB16005</td>\n",
       "      <td>NaN</td>\n",
       "      <td>6-Jul-16</td>\n",
       "      <td>NaN</td>\n",
       "      <td>2128</td>\n",
       "      <td>DTW</td>\n",
       "      <td>MCO</td>\n",
       "      <td>757</td>\n",
       "      <td>6710.0</td>\n",
       "      <td>NaN</td>\n",
       "      <td>...</td>\n",
       "      <td>NaN</td>\n",
       "      <td>NaN</td>\n",
       "      <td>NaN</td>\n",
       "      <td>NaN</td>\n",
       "      <td>NaN</td>\n",
       "      <td>NaN</td>\n",
       "      <td>NaN</td>\n",
       "      <td>NaN</td>\n",
       "      <td>NaN</td>\n",
       "      <td>Discrepancy on flight leg as to DTW-MCO or MCO...</td>\n",
       "    </tr>\n",
       "  </tbody>\n",
       "</table>\n",
       "<p>5 rows × 44 columns</p>\n",
       "</div>"
      ],
      "text/plain": [
       "   Event_ID   Source      Date           Time  Flight_Number Orig Dest Fleet  \\\n",
       "0  TRB16001  Unknown  1-Jul-16            NaN            201  JNB  ATL   777   \n",
       "1  TRB16002      NaN  2-Jul-16  03JUL16 0100Z           2004  LAX  SLC   320   \n",
       "2  TRB16003      NaN  5-Jul-16            NaN            853  DTW  RSW   M90   \n",
       "3  TRB16004      NaN  5-Jul-16   05JUL160445Z             83  CDG  ATL   777   \n",
       "4  TRB16005      NaN  6-Jul-16            NaN           2128  DTW  MCO   757   \n",
       "\n",
       "   Ship_Number  EDR_EQUIP                        ...                          \\\n",
       "0       7103.0        NaN                        ...                           \n",
       "1       3215.0        NaN                        ...                           \n",
       "2       9231.0        NaN                        ...                           \n",
       "3       7101.0        NaN                        ...                           \n",
       "4       6710.0        NaN                        ...                           \n",
       "\n",
       "      Altitude Flight_Phase   P1   P2   P3 P3A   P4   P5   P6  \\\n",
       "0  34311.13793       Cruise  NaN  NaN  NaN NaN  NaN  NaN  NaN   \n",
       "1          NaN          NaN  NaN  NaN  NaN NaN  NaN  NaN  NaN   \n",
       "2          NaN          NaN  NaN  NaN  NaN NaN  NaN  NaN  NaN   \n",
       "3  3038.549444     Approach  NaN  NaN  NaN NaN  NaN  NaN  NaN   \n",
       "4          NaN          NaN  NaN  NaN  NaN NaN  NaN  NaN  NaN   \n",
       "\n",
       "                                            Comments  \n",
       "0  STARS report with turb, no injury report, no p...  \n",
       "1  FOQA did not detect turbulence on this flight....  \n",
       "2  Conflicting reports on question F4. FOQA did n...  \n",
       "3  FOQA did not detect turbulence during this fli...  \n",
       "4  Discrepancy on flight leg as to DTW-MCO or MCO...  \n",
       "\n",
       "[5 rows x 44 columns]"
      ]
     },
     "execution_count": 3,
     "metadata": {},
     "output_type": "execute_result"
    }
   ],
   "source": [
    "df0.head()"
   ]
  },
  {
   "cell_type": "code",
   "execution_count": 4,
   "metadata": {
    "collapsed": true
   },
   "outputs": [],
   "source": [
    "from openpyxl import load_workbook"
   ]
  },
  {
   "cell_type": "code",
   "execution_count": 8,
   "metadata": {},
   "outputs": [],
   "source": [
    "workbook = load_workbook('Complete Data.xlsx')"
   ]
  },
  {
   "cell_type": "code",
   "execution_count": 10,
   "metadata": {},
   "outputs": [
    {
     "ename": "AttributeError",
     "evalue": "'Workbook' object has no attribute 'head'",
     "output_type": "error",
     "traceback": [
      "\u001b[1;31m---------------------------------------------------------------------------\u001b[0m",
      "\u001b[1;31mAttributeError\u001b[0m                            Traceback (most recent call last)",
      "\u001b[1;32m<ipython-input-10-4944761c11d7>\u001b[0m in \u001b[0;36m<module>\u001b[1;34m()\u001b[0m\n\u001b[1;32m----> 1\u001b[1;33m \u001b[0mworkbook\u001b[0m\u001b[1;33m.\u001b[0m\u001b[0mhead\u001b[0m\u001b[1;33m(\u001b[0m\u001b[1;33m)\u001b[0m\u001b[1;33m\u001b[0m\u001b[0m\n\u001b[0m",
      "\u001b[1;31mAttributeError\u001b[0m: 'Workbook' object has no attribute 'head'"
     ]
    }
   ],
   "source": [
    "workbook.head()"
   ]
  },
  {
   "cell_type": "code",
   "execution_count": null,
   "metadata": {
    "collapsed": true
   },
   "outputs": [],
   "source": []
  }
 ],
 "metadata": {
  "kernelspec": {
   "display_name": "Python 3",
   "language": "python",
   "name": "python3"
  },
  "language_info": {
   "codemirror_mode": {
    "name": "ipython",
    "version": 3
   },
   "file_extension": ".py",
   "mimetype": "text/x-python",
   "name": "python",
   "nbconvert_exporter": "python",
   "pygments_lexer": "ipython3",
   "version": "3.6.1"
  }
 },
 "nbformat": 4,
 "nbformat_minor": 2
}
